{
  "nbformat": 4,
  "nbformat_minor": 0,
  "metadata": {
    "colab": {
      "name": "Esteban_Garcia_Tarea1-Parte2.ipynb",
      "version": "0.3.2",
      "provenance": [],
      "collapsed_sections": []
    },
    "kernelspec": {
      "name": "python3",
      "display_name": "Python 3"
    }
  },
  "cells": [
    {
      "cell_type": "markdown",
      "metadata": {
        "id": "jdtaAwa8XzNA",
        "colab_type": "text"
      },
      "source": [
        "# Estadística para Ciencia de los Datos\n",
        "# Esteban Garcia Solis\n",
        "# Tarea #1 - Semana #2\n",
        "\n"
      ]
    },
    {
      "cell_type": "code",
      "metadata": {
        "id": "yosWpoT7AxRY",
        "colab_type": "code",
        "colab": {}
      },
      "source": [
        "import numpy as np;\n",
        "import matplotlib.pyplot as plt;\n",
        "from scipy.stats import norm\n",
        "\n",
        "def printTable(table):\n",
        "  col_width = max(len(word) for row in table for word in row) + 2  # padding\n",
        "  for row in table:\n",
        "      print(\"\".join(word.ljust(col_width) for word in row))\n",
        "  print(\"\")"
      ],
      "execution_count": 0,
      "outputs": []
    },
    {
      "cell_type": "markdown",
      "metadata": {
        "id": "chgbdVm7TbL-",
        "colab_type": "text"
      },
      "source": [
        "## Parte 2\n",
        "\n",
        "Envíe un notebook de colab con el código correspondiente a la solución de los siguientes ejercicios a través de TEC Digital a más tardar el domingo 15 de septiembre a las 10 PM. No se aceptarán entregas tardías. Se espera que el código pueda ejecutarse con visualizaciones apropiadas, sino no se asignará puntaje.\n",
        "\n",
        "1. Muestreo de estaturas. Los estudiantes deberán programar dos funciones para crear muestras de $N$ personas (observaciones) con una sola variable aleatoria: estatura. Para efectos prácticos, ambas funciones pueden retornar una simple lista con valores numéricos que representan la estatura en centímetros de diferentes personas. Para ambas funciones deberán mostrarse ejemplos de creación de muestras con al menos 100 observaciones y mostrarlas en un histograma. La cantidad de cubetas deberá limitarse a un máximo de 9. Las funciones a programar serán las siguientes:\n",
        " * **Muestreo Uniforme**. Además de recibir la cantidad de observaciones a generar $N$, recibirá la estatura mínima y máxima  por parámetro. Por ejemplo, si se pide una distribución uniforme entre 150 y 168, las estaturas entre ese rango deberán ser igual de probables de muestrear. (5 puntos)\n",
        "  * **Muestreo Normal**. Además de recibir la cantidad de observaciones a generar $N$, recibirá la media y desviación estándar por parámetro. De esta forma, la función generará $N$ observaciones provenientes de una distribución Gaussiana con la media y desviación estándar recibidas. (5 puntos)\n",
        "  \n",
        "  \n",
        "\n"
      ]
    },
    {
      "cell_type": "code",
      "metadata": {
        "id": "ILjLefNJYSrw",
        "colab_type": "code",
        "outputId": "581a75c7-d27f-4a3e-b015-a26648522e8e",
        "colab": {
          "base_uri": "https://localhost:8080/",
          "height": 545
        }
      },
      "source": [
        "def uniformSample(min, max, n):\n",
        "  return np.random.uniform(min, max, n)\n",
        "\n",
        "def normalSample(mu, sigma, n):\n",
        "  return np.random.normal(mu, sigma, n)\n",
        "\n",
        "def plotHistogram(data, bins, title):\n",
        "  if bins > 9:\n",
        "    print(\"invalid number of bins: {}\".format(bins))\n",
        "  else:\n",
        "    plt.hist(data, bins)\n",
        "    plt.title(title)\n",
        "    plt.show()\n",
        "\n",
        "def test(min, max, mu, sigma, n, bins):\n",
        "  uniform = uniformSample(min, max, n)\n",
        "  normal = normalSample(mu, sigma, n)\n",
        "  plotHistogram(uniform, bins, \"Uniform distribution test\")\n",
        "  plotHistogram(normal, bins, \"Normal distribution test\")\n",
        "\n",
        "test(min=120, max=200, mu=160, sigma=20, n=100, bins=9)\n"
      ],
      "execution_count": 151,
      "outputs": [
        {
          "output_type": "display_data",
          "data": {
            "image/png": "[encoded data removed]",
            "text/plain": [
              "<Figure size 432x288 with 1 Axes>"
            ]
          },
          "metadata": {
            "tags": []
          }
        },
        {
          "output_type": "display_data",
          "data": {
            "image/png": "[encoded data removed]",
            "text/plain": [
              "<Figure size 432x288 with 1 Axes>"
            ]
          },
          "metadata": {
            "tags": []
          }
        }
      ]
    },
    {
      "cell_type": "markdown",
      "metadata": {
        "id": "Y66h0V-qKfIj",
        "colab_type": "text"
      },
      "source": [
        "2. **Evaluación de la función de verosimilitud normal**. Deberán proveer una función que reciba una de las **muestras** del punto 1 y evalúe la probabilidad que esa muestra provenga de una distribución normal con parámetros $\\mu$ y $\\sigma$ (que deberán ser enviados a la función). Deberán mostrar ejemplos obtenidos bajo ambos esquemas de muestreo. Por ejemplo, si se crea una muestra normal centrada en $\\mu_1=177$ con $\\sigma_1=1$ y evaluamos la verosimilitud para $\\mu=176,\\sigma=3$ podría darnos una probabilidad alta. En contraposición, al crear una muestra uniforme entre $170$ y $180$ y evaluarla para esos mismos parámetros de verosimilitud, se esperaría que sea menos probable. Todo lo anterior debe reflejarse con ejemplos que muestren el correcto funcionamiento (10 puntos)"
      ]
    },
    {
      "cell_type": "code",
      "metadata": {
        "id": "aDopAfZbKp2c",
        "colab_type": "code",
        "outputId": "e05f3cee-f644-4a32-f348-a3b1215d3bcd",
        "colab": {
          "base_uri": "https://localhost:8080/",
          "height": 119
        }
      },
      "source": [
        "def normalProbabilityDensity(h, mu, sigma):\n",
        "  return np.prod(norm.pdf(h, mu, sigma))\n",
        "\n",
        "def testLikelihood(min, max, mu, sigma, n, muL, sigmaL, table):\n",
        "  hNormal  = normalSample(mu, sigma, n)\n",
        "  hUniform = uniformSample(min, max, n)\n",
        "\n",
        "  likelihoodNormal  = normalProbabilityDensity(hNormal, muL, sigmaL) \n",
        "  likelihoodUniform = normalProbabilityDensity(hUniform, muL, sigmaL)\n",
        "\n",
        "  table.append([\"Normal (mu:{}, sigma:{})\".format(mu, sigma), str(n), str(muL), str(sigmaL), str(likelihoodNormal)])\n",
        "  table.append([\"Uniform (min:{}, max:{})\".format(min, max), str(n), str(muL), str(sigmaL), str(likelihoodUniform)])\n",
        "\n",
        "  return table\n",
        "\n",
        "result = [[\"Distribution\", \"n\", \"mu\", \"sigma\", \"Likelihood\"]]\n",
        "result = testLikelihood(min = 170, max = 180, mu = 177, sigma = 1,  n = 10, muL = 176, sigmaL = 3, table = result)\n",
        "result = testLikelihood(min = 155, max = 175, mu = 160, sigma = 10, n = 10, muL = 160, sigmaL = 10, table = result)\n",
        "\n",
        "printTable(result)"
      ],
      "execution_count": 152,
      "outputs": [
        {
          "output_type": "stream",
          "text": [
            "Distribution                n                           mu                          sigma                       Likelihood                  \n",
            "Normal (mu:177, sigma:1)    10                          176                         3                           7.024910481796183e-10       \n",
            "Uniform (min:170, max:180)  10                          176                         3                           5.48439996566021e-11        \n",
            "Normal (mu:160, sigma:10)   10                          160                         10                          3.733881783788632e-17       \n",
            "Uniform (min:155, max:175)  10                          160                         10                          4.0533343023996867e-16      \n",
            "\n"
          ],
          "name": "stdout"
        }
      ]
    },
    {
      "cell_type": "markdown",
      "metadata": {
        "id": "xbUFemCOKrak",
        "colab_type": "text"
      },
      "source": [
        "3. ¿Qué problema ocurre con el cálculo de la función de verosimilitud cuando aumentamos la cantidad de observaciones en varios órdenes de magnitud? y ¿Cual sería una forma de solucionar este problema? Programe una función con la posible solución y anote como comentarios las respuestas a las dos preguntas anteriores. De igual forma muestre un ejemplo de como invocar esta función (10 puntos)\n",
        "\n",
        ">R/ Al incrementar la cantidad de observaciones la multiplicatoria de números pequeños hace que los resultados se aproximen cada vez más a 0. Al punto de obtener un underflow. En la tabla siguiente vemos como con n = 1000 el calculo de la verosimilitud da resultado 0\n"
      ]
    },
    {
      "cell_type": "code",
      "metadata": {
        "id": "MhBL4O2fKskw",
        "colab_type": "code",
        "outputId": "8618f06f-ed70-4424-c5ec-7d1e270e19ec",
        "colab": {
          "base_uri": "https://localhost:8080/",
          "height": 153
        }
      },
      "source": [
        "result = [[\"Distribution\", \"n\", \"mu\", \"sigma\", \"Likelihood\"]]\n",
        "result = testLikelihood(min = 170, max = 180, mu = 177, sigma = 1,  n = 10, muL = 176, sigmaL = 3, table = result)\n",
        "result = testLikelihood(min = 170, max = 180, mu = 177, sigma = 1,  n = 100, muL = 176, sigmaL = 3, table = result)\n",
        "result = testLikelihood(min = 170, max = 180, mu = 177, sigma = 1,  n = 1000, muL = 176, sigmaL = 3, table = result)\n",
        "printTable(result)\n"
      ],
      "execution_count": 153,
      "outputs": [
        {
          "output_type": "stream",
          "text": [
            "Distribution                n                           mu                          sigma                       Likelihood                  \n",
            "Normal (mu:177, sigma:1)    10                          176                         3                           6.896664886716653e-10       \n",
            "Uniform (min:170, max:180)  10                          176                         3                           1.894805154266882e-11       \n",
            "Normal (mu:177, sigma:1)    100                         176                         3                           6.446858287122697e-93       \n",
            "Uniform (min:170, max:180)  100                         176                         3                           1.1234097039416466e-109     \n",
            "Normal (mu:177, sigma:1)    1000                        176                         3                           0.0                         \n",
            "Uniform (min:170, max:180)  1000                        176                         3                           0.0                         \n",
            "\n"
          ],
          "name": "stdout"
        }
      ]
    },
    {
      "cell_type": "markdown",
      "metadata": {
        "id": "19xok9EnyhfX",
        "colab_type": "text"
      },
      "source": [
        ">Para solucionar el problema del underflow se puede utilizar la propiedad del logaritmo natural:  \n",
        ">>$\\ln\\left(x\\cdot y\\right)=\\ln\\left(x\\right)+\\ln\\left(y\\right)$\n",
        "\n",
        ">Asi modificamos la función normalProbabilityDensity para corregir el problema, en la tabla mostrada abajo podemos ver que ya no hay underflow y aún logramos tener una noción de que probabilidad es más alta en comparación con las demás."
      ]
    },
    {
      "cell_type": "code",
      "metadata": {
        "id": "q9iCezZKyh_f",
        "colab_type": "code",
        "colab": {
          "base_uri": "https://localhost:8080/",
          "height": 153
        },
        "outputId": "78df8561-5fc1-4338-9052-ea05f7dfff7a"
      },
      "source": [
        "def normalProbabilityDensityLn(h, mu, sigma):\n",
        "  return np.sum(np.log(norm.pdf(h, mu, sigma)))\n",
        "\n",
        "def testLikelihoodLn(min, max, mu, sigma, n, muL, sigmaL, table):\n",
        "  hNormal  = normalSample(mu, sigma, n)\n",
        "  hUniform = uniformSample(min, max, n)\n",
        "\n",
        "  likelihoodNormal  = normalProbabilityDensityLn(hNormal, muL, sigmaL)\n",
        "  likelihoodUniform = normalProbabilityDensityLn(hUniform, muL, sigmaL)\n",
        "\n",
        "  table.append([\"Normal (mu:{}, sigma:{})\".format(mu, sigma), str(n), str(muL), str(sigmaL), str(likelihoodNormal)])\n",
        "  table.append([\"Uniform (min:{}, max:{})\".format(min, max),  str(n), str(muL), str(sigmaL), str(likelihoodUniform)])\n",
        "\n",
        "  return table\n",
        "\n",
        "result = [[\"Distribution\", \"n\", \"mu\", \"sigma\", \"Ln(Likelihood)\"]]\n",
        "result = testLikelihoodLn(min = 170, max = 180, mu = 177, sigma = 1,  n = 10, muL = 176, sigmaL = 3, table = result)\n",
        "result = testLikelihoodLn(min = 170, max = 180, mu = 177, sigma = 1,  n = 100, muL = 176, sigmaL = 3, table = result)\n",
        "result = testLikelihoodLn(min = 170, max = 180, mu = 177, sigma = 1,  n = 1000, muL = 176, sigmaL = 3, table = result)\n",
        "\n",
        "printTable(result)"
      ],
      "execution_count": 154,
      "outputs": [
        {
          "output_type": "stream",
          "text": [
            "Distribution                n                           mu                          sigma                       Ln(Likelihood)              \n",
            "Normal (mu:177, sigma:1)    10                          176                         3                           -20.81688072521609          \n",
            "Uniform (min:170, max:180)  10                          176                         3                           -26.41555530753203          \n",
            "Normal (mu:177, sigma:1)    100                         176                         3                           -212.63911350636337         \n",
            "Uniform (min:170, max:180)  100                         176                         3                           -246.23229906256267         \n",
            "Normal (mu:177, sigma:1)    1000                        176                         3                           -2123.706039537701          \n",
            "Uniform (min:170, max:180)  1000                        176                         3                           -2489.4664129883367         \n",
            "\n"
          ],
          "name": "stdout"
        }
      ]
    },
    {
      "cell_type": "markdown",
      "metadata": {
        "id": "58OTKb0NKta4",
        "colab_type": "text"
      },
      "source": [
        "4. Implemente una función para determinar los valores óptimos para maximizar la función de verosimilitud normal, según teoría vista en clase. Suponga que la cantidad de observaciones (N) siempre es alta. Igualmente se espera que se provean ejemplos en el código para mostrar el correcto funcionamiento (10 puntos)\n",
        "\n",
        ">nota: El parámetro ddof permite variar el factor de normalizacion: $\\frac{1}{n-ddof}$"
      ]
    },
    {
      "cell_type": "code",
      "metadata": {
        "id": "iXm8qktgK-30",
        "colab_type": "code",
        "outputId": "814afbdc-9996-41ac-8412-483f96bf86c2",
        "colab": {
          "base_uri": "https://localhost:8080/",
          "height": 34
        }
      },
      "source": [
        "def maxLikelihoodEstimation(sample, ddof=0):\n",
        "  return (np.mean(sample), np.std(sample, ddof=ddof))\n",
        "\n",
        "hNormal  = normalSample(mu = 160, sigma = 20, n= 50)\n",
        "\n",
        "print(maxLikelihoodEstimation(hNormal))\n"
      ],
      "execution_count": 155,
      "outputs": [
        {
          "output_type": "stream",
          "text": [
            "(154.18084270177496, 17.83338690387705)\n"
          ],
          "name": "stdout"
        }
      ]
    },
    {
      "cell_type": "markdown",
      "metadata": {
        "id": "Mk6oWkOwK_TX",
        "colab_type": "text"
      },
      "source": [
        "5. Genere 10000 muestras de 50 observaciones cada una  provenientes de una distribución normal con $\\mu=170$ y $\\sigma=1$. Calcule el valor óptimo de la varianza para maximizar la función de verosimilitud normal de cada muestra (estimador de la varianza sesgado) y luego obtenga el valor esperado de la varianza (promedio sobre las 10000 muestras). Compare este valor esperado con el valor  de varianza usado para generar las muestras ($\\sigma^{2}=1$)  . Ejecute varias veces su código y responda ¿El valor esperado de la varianza aproxima de manera correcta la varianza original  de la distribución o es necesario hacer alguna corrección en este caso para el cálculo del valor óptimo de la varianza? Justifique su respuesta en ambos casos y explique cual sería la corrección en caso afirmativo (10 puntos)"
      ]
    },
    {
      "cell_type": "code",
      "metadata": {
        "id": "iSU7VZjQK_vz",
        "colab_type": "code",
        "colab": {}
      },
      "source": [
        "def generateNormalSamples(mu, sigma, n, r):\n",
        "  samples = []\n",
        "  for i in range(r):\n",
        "    samples.append(normalSample(mu, sigma, n))\n",
        "  return samples\n",
        "\n",
        "def maxLikelihoodEstimations(samples, ddof=0):\n",
        "  estimations = []\n",
        "  for i in range(len(samples)):\n",
        "    estimations.append(maxLikelihoodEstimation(samples[i], ddof))\n",
        "  return estimations\n",
        "\n",
        "def testVarianceEstimation(mu, sigma, n, r, ddof, tests):\n",
        "  table = [[\"Dist. Var.\", \"Avg. Var.\", \"Difference\"]]\n",
        "  for i in range(tests):\n",
        "    variance = sigma * sigma\n",
        "    normalSamples = generateNormalSamples(mu=170, sigma=1, n=n, r=r)\n",
        "    estimations = np.array(maxLikelihoodEstimations(normalSamples, ddof))\n",
        "    expectedVariance = np.sum(estimations[:,1] * estimations[:,1]) / r\n",
        "    table.append([str(variance), str(expectedVariance), str(abs(variance - expectedVariance))])\n",
        "  print(\"Samples: \" + str(r))\n",
        "  print(\"Observation per sample: \" + str(n))\n",
        "  print(\"\")\n",
        "  printTable(table)"
      ],
      "execution_count": 0,
      "outputs": []
    },
    {
      "cell_type": "markdown",
      "metadata": {
        "id": "1bQMg67rImc3",
        "colab_type": "text"
      },
      "source": [
        ">Al usar el estimador de varianza sesgado se puede ver que se aproxima bastante al valor de la varianza ($\\sigma^{2}=1$), sin embargo, al reducir la cantidad de observaciones por muestra se ve que la estimación deja de ser tan acertada"
      ]
    },
    {
      "cell_type": "code",
      "metadata": {
        "id": "wpfgy2L8InOs",
        "colab_type": "code",
        "colab": {
          "base_uri": "https://localhost:8080/",
          "height": 527
        },
        "outputId": "51b524aa-0ec9-4bfc-ab40-1a663674af2a"
      },
      "source": [
        "\"\"\" Using biased estimator \"\"\"\n",
        "testVarianceEstimation(170, 1, 50, 10000, 0, 10)\n",
        "\n",
        "\"\"\" Using biased estimator \"\"\"\n",
        "testVarianceEstimation(170, 1, 10, 10000, 0, 10)"
      ],
      "execution_count": 157,
      "outputs": [
        {
          "output_type": "stream",
          "text": [
            "Samples: 10000\n",
            "Observation per sample: 50\n",
            "\n",
            "Dist. Var.            Avg. Var.             Difference            \n",
            "1                     0.9799138243702031    0.020086175629796865  \n",
            "1                     0.9841526004210417    0.01584739957895831   \n",
            "1                     0.9801230007220374    0.019876999277962604  \n",
            "1                     0.9803967023156772    0.019603297684322785  \n",
            "1                     0.9816207685556539    0.018379231444346056  \n",
            "1                     0.9794516330032129    0.020548366996787082  \n",
            "1                     0.9791951053665429    0.02080489463345714   \n",
            "1                     0.9834128983799797    0.016587101620020306  \n",
            "1                     0.9832713653263834    0.016728634673616627  \n",
            "1                     0.9810270159056274    0.018972984094372647  \n",
            "\n",
            "Samples: 10000\n",
            "Observation per sample: 10\n",
            "\n",
            "Dist. Var.           Avg. Var.            Difference           \n",
            "1                    0.8984479284809197   0.1015520715190803   \n",
            "1                    0.9067930442962053   0.09320695570379467  \n",
            "1                    0.9004141613592951   0.09958583864070492  \n",
            "1                    0.9033401309613215   0.09665986903867851  \n",
            "1                    0.9079686738242632   0.09203132617573684  \n",
            "1                    0.8996371953576249   0.10036280464237513  \n",
            "1                    0.9066711159984002   0.09332888400159978  \n",
            "1                    0.9010755763448848   0.09892442365511522  \n",
            "1                    0.8983621448448627   0.10163785515513735  \n",
            "1                    0.9023690193854796   0.09763098061452036  \n",
            "\n"
          ],
          "name": "stdout"
        }
      ]
    },
    {
      "cell_type": "markdown",
      "metadata": {
        "id": "pfrkRpksIvd1",
        "colab_type": "text"
      },
      "source": [
        ">Para solucionar el problema utilizamos el estimador de varianza sesgado y vemos como la Estimación se mantiene incluso al utilizar menos observaciones por muestra:"
      ]
    },
    {
      "cell_type": "code",
      "metadata": {
        "id": "fY98td6eIv28",
        "colab_type": "code",
        "colab": {
          "base_uri": "https://localhost:8080/",
          "height": 527
        },
        "outputId": "a2b09b73-1fcd-46f7-d434-7d888808d9a5"
      },
      "source": [
        "\"\"\" Using non biased estimator \"\"\"\n",
        "testVarianceEstimation(170, 1, 50, 10000, 1, 10)\n",
        "\n",
        "\"\"\" Using non biased estimator \"\"\"\n",
        "testVarianceEstimation(170, 1, 10, 10000, 1, 10)"
      ],
      "execution_count": 158,
      "outputs": [
        {
          "output_type": "stream",
          "text": [
            "Samples: 10000\n",
            "Observation per sample: 50\n",
            "\n",
            "Dist. Var.              Avg. Var.               Difference              \n",
            "1                       1.000903318671411       0.0009033186714109132   \n",
            "1                       1.0014510568225665      0.001451056822566521    \n",
            "1                       1.000126421794978       0.0001264217949779045   \n",
            "1                       1.0007742642953505      0.0007742642953505463   \n",
            "1                       0.9952215980637613      0.004778401936238685    \n",
            "1                       0.9981052108511822      0.0018947891488177993   \n",
            "1                       0.9969156875101493      0.003084312489850749    \n",
            "1                       1.000370979771648       0.00037097977164801677  \n",
            "1                       1.002574740169263       0.002574740169263068    \n",
            "1                       0.997607468502425       0.0023925314975750123   \n",
            "\n",
            "Samples: 10000\n",
            "Observation per sample: 10\n",
            "\n",
            "Dist. Var.             Avg. Var.              Difference             \n",
            "1                      1.0129155001116852     0.012915500111685185   \n",
            "1                      1.0000855405245057     8.55405245057117e-05   \n",
            "1                      1.0088634121990137     0.008863412199013654   \n",
            "1                      1.0022550608846952     0.0022550608846951814  \n",
            "1                      1.0035648698252895     0.003564869825289474   \n",
            "1                      1.0008124423956561     0.0008124423956561433  \n",
            "1                      0.9956467009672336     0.004353299032766378   \n",
            "1                      1.0048178129437824     0.0048178129437823625  \n",
            "1                      0.9990535168668272     0.0009464831331728041  \n",
            "1                      0.9986394922872163     0.0013605077127837317  \n",
            "\n"
          ],
          "name": "stdout"
        }
      ]
    }
  ]
}
